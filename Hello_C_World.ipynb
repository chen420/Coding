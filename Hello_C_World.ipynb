{
  "nbformat": 4,
  "nbformat_minor": 0,
  "metadata": {
    "colab": {
      "name": "Hello-C-World.ipynb",
      "provenance": [],
      "collapsed_sections": [],
      "authorship_tag": "ABX9TyNJJiefiWTScsSY9ZtnSxGr",
      "include_colab_link": true
    },
    "kernelspec": {
      "name": "python3",
      "display_name": "Python 3"
    },
    "language_info": {
      "name": "python"
    }
  },
  "cells": [
    {
      "cell_type": "markdown",
      "metadata": {
        "id": "view-in-github",
        "colab_type": "text"
      },
      "source": [
        "<a href=\"https://colab.research.google.com/github/chen420/Coding/blob/main/Hello_C_World.ipynb\" target=\"_parent\"><img src=\"https://colab.research.google.com/assets/colab-badge.svg\" alt=\"Open In Colab\"/></a>"
      ]
    },
    {
      "cell_type": "markdown",
      "source": [
        "# 　Hello World"
      ],
      "metadata": {
        "id": "RV9ynLIwITZQ"
      }
    },
    {
      "cell_type": "code",
      "execution_count": null,
      "metadata": {
        "colab": {
          "base_uri": "https://localhost:8080/"
        },
        "id": "s7b9HYMPIAFb",
        "outputId": "f49d2586-8fb1-47a2-f1e1-ec125445813e"
      },
      "outputs": [
        {
          "output_type": "stream",
          "name": "stdout",
          "text": [
            "Overwriting hello.c\n"
          ]
        }
      ],
      "source": [
        "%%file hello.c \n",
        "#include  <stdio.h>\n",
        "int main(void) {\n",
        "   printf(\"Hello, C言語 World!\\n\");\n",
        "   return 0;\n",
        "}"
      ]
    },
    {
      "cell_type": "markdown",
      "source": [
        "# Compile & Run"
      ],
      "metadata": {
        "id": "jiMi6v8LI3Nl"
      }
    },
    {
      "cell_type": "code",
      "source": [
        "!gcc hello.c -o hello && ./hello"
      ],
      "metadata": {
        "colab": {
          "base_uri": "https://localhost:8080/"
        },
        "id": "YEBBcZ1XI957",
        "outputId": "7a2499d9-c961-4d4a-c7fb-5e9d5a45fc94"
      },
      "execution_count": null,
      "outputs": [
        {
          "output_type": "stream",
          "name": "stdout",
          "text": [
            "Hello, C言語 World!\n"
          ]
        }
      ]
    },
    {
      "cell_type": "code",
      "source": [
        "!./hello"
      ],
      "metadata": {
        "colab": {
          "base_uri": "https://localhost:8080/"
        },
        "id": "yZ_vz3xsJxd1",
        "outputId": "4b981e39-efa6-4e67-e7d1-7060d38a5eb4"
      },
      "execution_count": null,
      "outputs": [
        {
          "output_type": "stream",
          "name": "stdout",
          "text": [
            "Hello, C言語 World!\n"
          ]
        }
      ]
    }
  ]
}