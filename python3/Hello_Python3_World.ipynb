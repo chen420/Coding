{
  "nbformat": 4,
  "nbformat_minor": 0,
  "metadata": {
    "colab": {
      "name": "Hello_Python3_World.ipynb",
      "provenance": [],
      "authorship_tag": "ABX9TyOjwjAzjd6E/wKfzU9NKl63",
      "include_colab_link": true
    },
    "kernelspec": {
      "name": "python3",
      "display_name": "Python 3"
    }
  },
  "cells": [
    {
      "cell_type": "markdown",
      "metadata": {
        "id": "view-in-github",
        "colab_type": "text"
      },
      "source": [
        "<a href=\"https://colab.research.google.com/github/chen420/Coding/blob/main/Hello_Python3_World.ipynb\" target=\"_parent\"><img src=\"https://colab.research.google.com/assets/colab-badge.svg\" alt=\"Open In Colab\"/></a>"
      ]
    },
    {
      "cell_type": "code",
      "metadata": {
        "id": "FjwS_VndBjZ9",
        "colab": {
          "base_uri": "https://localhost:8080/"
        },
        "outputId": "fdb4257b-9558-419f-e036-9a82f0676e58"
      },
      "source": [
        "print ('Hello, Python.')"
      ],
      "execution_count": 1,
      "outputs": [
        {
          "output_type": "stream",
          "name": "stdout",
          "text": [
            "Hello, Python.\n"
          ]
        }
      ]
    }
  ]
}
