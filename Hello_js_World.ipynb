{
  "nbformat": 4,
  "nbformat_minor": 0,
  "metadata": {
    "colab": {
      "name": "Hello-js-World.ipynb",
      "provenance": [],
      "authorship_tag": "ABX9TyN3zBowE/At6dpNOiiKj9cd",
      "include_colab_link": true
    },
    "kernelspec": {
      "name": "python3",
      "display_name": "Python 3"
    },
    "language_info": {
      "name": "python"
    }
  },
  "cells": [
    {
      "cell_type": "markdown",
      "metadata": {
        "id": "view-in-github",
        "colab_type": "text"
      },
      "source": [
        "<a href=\"https://colab.research.google.com/github/chen420/Coding/blob/main/Hello_js_World.ipynb\" target=\"_parent\"><img src=\"https://colab.research.google.com/assets/colab-badge.svg\" alt=\"Open In Colab\"/></a>"
      ]
    },
    {
      "cell_type": "code",
      "execution_count": null,
      "metadata": {
        "colab": {
          "base_uri": "https://localhost:8080/",
          "height": 17
        },
        "id": "15rHPvx7kcSb",
        "outputId": "1e0f54f0-66e9-48ae-e291-73d841626369"
      },
      "outputs": [
        {
          "output_type": "display_data",
          "data": {
            "text/plain": [
              "<IPython.core.display.Javascript object>"
            ],
            "application/javascript": [
              "let hoge = \"Hello, World\"\n",
              "console.log(hoge)"
            ]
          },
          "metadata": {}
        }
      ],
      "source": [
        "%%javascript\n",
        "let hoge = \"Hello, World\"\n",
        "console.log(hoge)"
      ]
    },
    {
      "cell_type": "code",
      "source": [
        "%%js\n",
        "let dom = document.querySelector('#output-area');\n",
        "dom.innerHTML = '<h1>Hello! </h1> <p>これは js サンプルの表示です。</p>';"
      ],
      "metadata": {
        "colab": {
          "base_uri": "https://localhost:8080/",
          "height": 100
        },
        "id": "Nu7k1GOennm0",
        "outputId": "91054d95-0ce3-4cf2-a914-1c2e0c519217"
      },
      "execution_count": null,
      "outputs": [
        {
          "output_type": "display_data",
          "data": {
            "text/plain": [
              "<IPython.core.display.Javascript object>"
            ],
            "application/javascript": [
              "let dom = document.querySelector('#output-area');\n",
              "dom.innerHTML = '<h1>Hello! </h1> <p>これは js サンプルの表示です。</p>';"
            ]
          },
          "metadata": {}
        }
      ]
    },
    {
      "cell_type": "code",
      "source": [
        "%%html\n",
        "<h1>Hello</h1>\n",
        "<h2>HTML Sample page.</h2>\n",
        "<p> これは､HTML のサンプル画面です。 </p>"
      ],
      "metadata": {
        "colab": {
          "base_uri": "https://localhost:8080/",
          "height": 143
        },
        "id": "eVGNmhWwoB1U",
        "outputId": "4a246f58-b66e-4e97-917c-ab12234b62a7"
      },
      "execution_count": null,
      "outputs": [
        {
          "output_type": "display_data",
          "data": {
            "text/plain": [
              "<IPython.core.display.HTML object>"
            ],
            "text/html": [
              "<h1>Hello</h1>\n",
              "<h2>HTML Sample page.</h2>\n",
              "<p> これは､HTML のサンプル画面です。 </p>"
            ]
          },
          "metadata": {}
        }
      ]
    }
  ]
}